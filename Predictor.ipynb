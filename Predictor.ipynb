{
  "nbformat": 4,
  "nbformat_minor": 0,
  "metadata": {
    "colab": {
      "provenance": [],
      "authorship_tag": "ABX9TyP6tX1L9D2GXJWKuSzKVnHA",
      "include_colab_link": true
    },
    "kernelspec": {
      "name": "python3",
      "display_name": "Python 3"
    },
    "language_info": {
      "name": "python"
    }
  },
  "cells": [
    {
      "cell_type": "markdown",
      "metadata": {
        "id": "view-in-github",
        "colab_type": "text"
      },
      "source": [
        "<a href=\"https://colab.research.google.com/github/Sandipan234/Stock_predictor/blob/main/Predictor.ipynb\" target=\"_parent\"><img src=\"https://colab.research.google.com/assets/colab-badge.svg\" alt=\"Open In Colab\"/></a>"
      ]
    },
    {
      "cell_type": "code",
      "execution_count": 52,
      "metadata": {
        "id": "qo0caAeB5gcd"
      },
      "outputs": [],
      "source": [
        "import pandas as pd\n",
        "import numpy as np\n",
        "from matplotlib import pyplot as plt\n",
        "import torch\n",
        "from torch import nn\n",
        "from torch.autograd import Variable \n"
      ]
    },
    {
      "cell_type": "code",
      "source": [
        "#seting up training inputs\n",
        "\n",
        "input_train=pd.read_csv('https://raw.githubusercontent.com/Sandipan234/Stock_predictor/104c3327a9e2a99c7ea4036a5ac85e57cacf06e5/HDFCBANK_TRAIN2.csv')\n",
        "input_test=pd.read_csv('https://raw.githubusercontent.com/Sandipan234/Stock_predictor/104c3327a9e2a99c7ea4036a5ac85e57cacf06e5/HDFCBANK_TEST2.csv')\n",
        "# input_train.head(10)\n",
        "train_set=input_train.iloc[:,4:5]\n",
        "test_set=input_test.iloc[:,4:5]\n",
        "train_set.head()"
      ],
      "metadata": {
        "colab": {
          "base_uri": "https://localhost:8080/",
          "height": 206
        },
        "id": "yosRcG2BELxm",
        "outputId": "573af2a9-0b56-4d07-eb04-841e52954b37"
      },
      "execution_count": 250,
      "outputs": [
        {
          "output_type": "execute_result",
          "data": {
            "text/plain": [
              "        Close\n",
              "0  934.075012\n",
              "1  934.150024\n",
              "2  938.325012\n",
              "3  934.174988\n",
              "4  928.375000"
            ],
            "text/html": [
              "\n",
              "  <div id=\"df-b94da8e4-0017-43d8-855a-73f3de34bbb3\">\n",
              "    <div class=\"colab-df-container\">\n",
              "      <div>\n",
              "<style scoped>\n",
              "    .dataframe tbody tr th:only-of-type {\n",
              "        vertical-align: middle;\n",
              "    }\n",
              "\n",
              "    .dataframe tbody tr th {\n",
              "        vertical-align: top;\n",
              "    }\n",
              "\n",
              "    .dataframe thead th {\n",
              "        text-align: right;\n",
              "    }\n",
              "</style>\n",
              "<table border=\"1\" class=\"dataframe\">\n",
              "  <thead>\n",
              "    <tr style=\"text-align: right;\">\n",
              "      <th></th>\n",
              "      <th>Close</th>\n",
              "    </tr>\n",
              "  </thead>\n",
              "  <tbody>\n",
              "    <tr>\n",
              "      <th>0</th>\n",
              "      <td>934.075012</td>\n",
              "    </tr>\n",
              "    <tr>\n",
              "      <th>1</th>\n",
              "      <td>934.150024</td>\n",
              "    </tr>\n",
              "    <tr>\n",
              "      <th>2</th>\n",
              "      <td>938.325012</td>\n",
              "    </tr>\n",
              "    <tr>\n",
              "      <th>3</th>\n",
              "      <td>934.174988</td>\n",
              "    </tr>\n",
              "    <tr>\n",
              "      <th>4</th>\n",
              "      <td>928.375000</td>\n",
              "    </tr>\n",
              "  </tbody>\n",
              "</table>\n",
              "</div>\n",
              "      <button class=\"colab-df-convert\" onclick=\"convertToInteractive('df-b94da8e4-0017-43d8-855a-73f3de34bbb3')\"\n",
              "              title=\"Convert this dataframe to an interactive table.\"\n",
              "              style=\"display:none;\">\n",
              "        \n",
              "  <svg xmlns=\"http://www.w3.org/2000/svg\" height=\"24px\"viewBox=\"0 0 24 24\"\n",
              "       width=\"24px\">\n",
              "    <path d=\"M0 0h24v24H0V0z\" fill=\"none\"/>\n",
              "    <path d=\"M18.56 5.44l.94 2.06.94-2.06 2.06-.94-2.06-.94-.94-2.06-.94 2.06-2.06.94zm-11 1L8.5 8.5l.94-2.06 2.06-.94-2.06-.94L8.5 2.5l-.94 2.06-2.06.94zm10 10l.94 2.06.94-2.06 2.06-.94-2.06-.94-.94-2.06-.94 2.06-2.06.94z\"/><path d=\"M17.41 7.96l-1.37-1.37c-.4-.4-.92-.59-1.43-.59-.52 0-1.04.2-1.43.59L10.3 9.45l-7.72 7.72c-.78.78-.78 2.05 0 2.83L4 21.41c.39.39.9.59 1.41.59.51 0 1.02-.2 1.41-.59l7.78-7.78 2.81-2.81c.8-.78.8-2.07 0-2.86zM5.41 20L4 18.59l7.72-7.72 1.47 1.35L5.41 20z\"/>\n",
              "  </svg>\n",
              "      </button>\n",
              "      \n",
              "  <style>\n",
              "    .colab-df-container {\n",
              "      display:flex;\n",
              "      flex-wrap:wrap;\n",
              "      gap: 12px;\n",
              "    }\n",
              "\n",
              "    .colab-df-convert {\n",
              "      background-color: #E8F0FE;\n",
              "      border: none;\n",
              "      border-radius: 50%;\n",
              "      cursor: pointer;\n",
              "      display: none;\n",
              "      fill: #1967D2;\n",
              "      height: 32px;\n",
              "      padding: 0 0 0 0;\n",
              "      width: 32px;\n",
              "    }\n",
              "\n",
              "    .colab-df-convert:hover {\n",
              "      background-color: #E2EBFA;\n",
              "      box-shadow: 0px 1px 2px rgba(60, 64, 67, 0.3), 0px 1px 3px 1px rgba(60, 64, 67, 0.15);\n",
              "      fill: #174EA6;\n",
              "    }\n",
              "\n",
              "    [theme=dark] .colab-df-convert {\n",
              "      background-color: #3B4455;\n",
              "      fill: #D2E3FC;\n",
              "    }\n",
              "\n",
              "    [theme=dark] .colab-df-convert:hover {\n",
              "      background-color: #434B5C;\n",
              "      box-shadow: 0px 1px 3px 1px rgba(0, 0, 0, 0.15);\n",
              "      filter: drop-shadow(0px 1px 2px rgba(0, 0, 0, 0.3));\n",
              "      fill: #FFFFFF;\n",
              "    }\n",
              "  </style>\n",
              "\n",
              "      <script>\n",
              "        const buttonEl =\n",
              "          document.querySelector('#df-b94da8e4-0017-43d8-855a-73f3de34bbb3 button.colab-df-convert');\n",
              "        buttonEl.style.display =\n",
              "          google.colab.kernel.accessAllowed ? 'block' : 'none';\n",
              "\n",
              "        async function convertToInteractive(key) {\n",
              "          const element = document.querySelector('#df-b94da8e4-0017-43d8-855a-73f3de34bbb3');\n",
              "          const dataTable =\n",
              "            await google.colab.kernel.invokeFunction('convertToInteractive',\n",
              "                                                     [key], {});\n",
              "          if (!dataTable) return;\n",
              "\n",
              "          const docLinkHtml = 'Like what you see? Visit the ' +\n",
              "            '<a target=\"_blank\" href=https://colab.research.google.com/notebooks/data_table.ipynb>data table notebook</a>'\n",
              "            + ' to learn more about interactive tables.';\n",
              "          element.innerHTML = '';\n",
              "          dataTable['output_type'] = 'display_data';\n",
              "          await google.colab.output.renderOutput(dataTable, element);\n",
              "          const docLink = document.createElement('div');\n",
              "          docLink.innerHTML = docLinkHtml;\n",
              "          element.appendChild(docLink);\n",
              "        }\n",
              "      </script>\n",
              "    </div>\n",
              "  </div>\n",
              "  "
            ]
          },
          "metadata": {},
          "execution_count": 250
        }
      ]
    },
    {
      "cell_type": "code",
      "source": [
        "date=(input_train['Date'])\n",
        "date1=date.str.replace(\"-\",\"\").astype(float)\n",
        "date2=date1.to_numpy()\n",
        "date_set=np.reshape(date2,(739,1))\n",
        "print(date_set)\n"
      ],
      "metadata": {
        "id": "QTiU7-OPipTQ"
      },
      "execution_count": null,
      "outputs": []
    },
    {
      "cell_type": "code",
      "source": [
        "dateT=(input_test['Date'])\n",
        "dateT1=dateT.str.replace(\"-\",\"\").astype(float)\n",
        "dateT2=dateT1.to_numpy()\n",
        "dateT_set=np.reshape(dateT2,(246,1))\n",
        "print(dateT_set)"
      ],
      "metadata": {
        "id": "GuJW3I5DqCcU"
      },
      "execution_count": null,
      "outputs": []
    },
    {
      "cell_type": "code",
      "source": [
        "#Scaling the Data\n",
        "\n",
        "from sklearn.preprocessing import MinMaxScaler,StandardScaler\n",
        "mmscale=MinMaxScaler()\n",
        "stdscale=StandardScaler()\n",
        "train_setx_scaled=stdscale.fit_transform(train_set)\n",
        "test_setx_scaled=stdscale.fit_transform(test_set)\n",
        "date_scaled=mmscale.fit_transform(date_set)\n",
        "dateT_scaled=mmscale.fit_transform(dateT_set)\n",
        "# train_sety_scaled=scale.fit_transform(date_train)\n",
        "print(train_setx_scaled)"
      ],
      "metadata": {
        "id": "8AAWNjJ3GiX7"
      },
      "execution_count": null,
      "outputs": []
    },
    {
      "cell_type": "code",
      "source": [
        "#seting up the the inputs for training\n",
        "\n",
        "from os import X_OK\n",
        "x_train=[]\n",
        "x_test=[]\n",
        "date_train=[]\n",
        "date_test=[]\n",
        "for i in range(5,740):\n",
        "  x_train.append(train_setx_scaled[i-5:i,0])\n",
        "  date_train.append(date_scaled[i-5:i,0])\n",
        "for i in range(5,247):\n",
        "  x_test.append(train_setx_scaled[i-5:i,0])\n",
        "  date_test.append(date_scaled[i-5:i,0])\n",
        "#changing the inputs array to tensor\n",
        "x_train_tensors = Variable(torch.Tensor(x_train))\n",
        "# x_test_tensors = Variable(torch.Tensor(x_test))\n"
      ],
      "metadata": {
        "id": "acnkeWoLG_xp"
      },
      "execution_count": 254,
      "outputs": []
    },
    {
      "cell_type": "code",
      "source": [
        "#converting to tensors for feeding\n",
        "x_train_tensors = Variable(torch.Tensor(x_train))\n",
        "x_train_tensors_final = torch.reshape(x_train_tensors,   (x_train_tensors.shape[0], 1, x_train_tensors.shape[1]))\n",
        "print(\"Training Shape\", x_train_tensors_final.shape)\n",
        "\n",
        "\n",
        "x_test_tensors = Variable(torch.Tensor(x_test))\n",
        "x_test_tensors_final = torch.reshape(x_test_tensors,   (x_test_tensors.shape[0], 1, x_test_tensors.shape[1]))\n",
        "print(\"Testing Shape\", x_test_tensors_final.shape)\n",
        "\n",
        "\n",
        "\n",
        "date_train_tensors = Variable(torch.Tensor(date_train))\n",
        "date_train_tensors_final = torch.reshape(date_train_tensors,   (date_train_tensors.shape[0], 1, date_train_tensors.shape[1]))\n",
        "print(\"Training date Shape\", date_train_tensors_final.shape)\n",
        "\n",
        "\n",
        "date_test_tensors = Variable(torch.Tensor(date_test))\n",
        "date_test_tensors_final = torch.reshape(date_test_tensors,   (date_test_tensors.shape[0], 1, date_test_tensors.shape[1]))\n",
        "# date_test_tensors_final=date_test_tensors_final.reshape([246,1,1])\n",
        "print(\"Testing Shape\", date_test_tensors_final.shape)\n",
        "\n",
        "\n"
      ],
      "metadata": {
        "colab": {
          "base_uri": "https://localhost:8080/"
        },
        "id": "xIDzZ4CnIIly",
        "outputId": "6e945c43-8741-486f-e513-90048e66469c"
      },
      "execution_count": 255,
      "outputs": [
        {
          "output_type": "stream",
          "name": "stdout",
          "text": [
            "Training Shape torch.Size([735, 1, 5])\n",
            "Testing Shape torch.Size([242, 1, 5])\n",
            "Training date Shape torch.Size([735, 1, 5])\n",
            "Testing Shape torch.Size([242, 1, 5])\n"
          ]
        }
      ]
    },
    {
      "cell_type": "code",
      "source": [
        "#Creating the Neural Network Structure\n",
        "class LSTM(nn.Module):\n",
        "    def __init__(self, num_classes, input_size, hidden_size, num_layers, seq_length):\n",
        "        super(LSTM, self).__init__()\n",
        "        self.num_classes = num_classes #number of classes\n",
        "        self.num_layers = num_layers #number of layers\n",
        "        self.input_size = input_size #input size\n",
        "        self.hidden_size = hidden_size #hidden state\n",
        "        self.seq_length = seq_length #sequence length\n",
        "\n",
        "        self.lstm = nn.LSTM(input_size=input_size, hidden_size=hidden_size,\n",
        "                          num_layers=num_layers, batch_first=True) #lstm\n",
        "        self.fc_1 =  nn.Linear(hidden_size, 128) #fully connected 1\n",
        "        self.fc = nn.Linear(128, num_classes) #fully connected last layer\n",
        "\n",
        "        self.relu = nn.ReLU()\n",
        "    \n",
        "    def forward(self,x):\n",
        "        h_0 = Variable(torch.zeros(self.num_layers, x.size(0), self.hidden_size)) #hidden state\n",
        "        c_0 = Variable(torch.zeros(self.num_layers, x.size(0), self.hidden_size)) #internal state\n",
        "        # Propagate input through LSTM\n",
        "        output, (hn, cn) = self.lstm(x, (h_0, c_0)) #lstm with input, hidden, and internal state\n",
        "        hn = hn.view(-1, self.hidden_size) #reshaping the data for Dense layer next\n",
        "        out = self.relu(hn)\n",
        "        out = self.fc_1(out) #first Dense\n",
        "        out = self.relu(out) #relu\n",
        "        out = self.fc(out) #Final Output\n",
        "        return out"
      ],
      "metadata": {
        "id": "vgLQZskUc_B5"
      },
      "execution_count": 256,
      "outputs": []
    },
    {
      "cell_type": "code",
      "source": [
        "#creating feeding variables\n",
        "num_epochs = 10000\n",
        "learning_rate = 0.0001\n",
        "input_size = 5\n",
        "hidden_size = 2\n",
        "num_layers = 1\n",
        "num_classes = 1"
      ],
      "metadata": {
        "id": "s0v1-UFifXqL"
      },
      "execution_count": 257,
      "outputs": []
    },
    {
      "cell_type": "code",
      "source": [
        "lstm = LSTM(num_classes, input_size, hidden_size, num_layers, x_train_tensors_final.shape[1]) #instanting th lstm class "
      ],
      "metadata": {
        "id": "zlIjdopKf4Wl"
      },
      "execution_count": 258,
      "outputs": []
    },
    {
      "cell_type": "code",
      "source": [
        "#defining the loss function and optimizer\n",
        "criterion = torch.nn.MSELoss() #using MeanSquared Loss function for loss detection\n",
        "optimizer = torch.optim.Adam(lstm.parameters(), lr=learning_rate) #using adam for optimising the weights\n"
      ],
      "metadata": {
        "id": "fDbp9EJBgUo7"
      },
      "execution_count": 259,
      "outputs": []
    },
    {
      "cell_type": "code",
      "source": [
        "#Training the NeuralNetwork\n",
        "for epoch in range(num_epochs):\n",
        "  outputs = lstm.forward(x_train_tensors_final) #forward passing\n",
        "  optimizer.zero_grad() #caluclating the gradient, manually setting to 0\n",
        " \n",
        "  # obtaining the loss function\n",
        "  loss = criterion(outputs, date_train_tensors)\n",
        " \n",
        "  loss.backward() #calculating the loss of the loss function\n",
        " \n",
        "  optimizer.step() #improving from loss\n",
        "  if epoch % 100 == 0:\n",
        "    print(\"Epoch: %d, loss: %1.5f\" % (epoch, loss.item()))"
      ],
      "metadata": {
        "id": "BkacAszqgvvU"
      },
      "execution_count": null,
      "outputs": []
    },
    {
      "cell_type": "code",
      "source": [
        "#predicitng the future stock\n",
        "prediction = lstm(x_test_tensors_final)\n",
        "predicted_price=(prediction.data.numpy())\n",
        "final_x = x_test_tensors_final.data.numpy()\n",
        "\n",
        "predicted_price=mmscale.inverse_transform(predicted_price)\n",
        "final_date=dateT2\n",
        "print(predicted_price)"
      ],
      "metadata": {
        "id": "O1AhCCjjpvZy"
      },
      "execution_count": null,
      "outputs": []
    },
    {
      "cell_type": "code",
      "source": [
        "#Plotting the result\n",
        "\n",
        "plt.figure(figsize=(10,6))\n",
        "\n",
        "#\n",
        "plt.plot(predicted_price,label='Predicted Data')\n",
        "\n",
        "plt.show"
      ],
      "metadata": {
        "colab": {
          "base_uri": "https://localhost:8080/",
          "height": 403
        },
        "id": "1JcsjDVTwNct",
        "outputId": "4eb79882-21a5-432f-95de-4f7e188bceff"
      },
      "execution_count": 263,
      "outputs": [
        {
          "output_type": "execute_result",
          "data": {
            "text/plain": [
              "<function matplotlib.pyplot.show(*args, **kw)>"
            ]
          },
          "metadata": {},
          "execution_count": 263
        },
        {
          "output_type": "display_data",
          "data": {
            "text/plain": [
              "<Figure size 720x432 with 1 Axes>"
            ],
            "image/png": "[encoded data removed]"
          },
          "metadata": {
            "needs_background": "light"
          }
        }
      ]
    },
    {
      "cell_type": "code",
      "source": [
        "plt.figure(figsize=(10,6))\n",
        "plt.plot(test_set, label='Actuall Data')"
      ],
      "metadata": {
        "colab": {
          "base_uri": "https://localhost:8080/",
          "height": 392
        },
        "id": "ZOSSUjUtyilw",
        "outputId": "cef80550-6e0c-4306-ec8e-b2f5b176fcaa"
      },
      "execution_count": 245,
      "outputs": [
        {
          "output_type": "execute_result",
          "data": {
            "text/plain": [
              "[<matplotlib.lines.Line2D at 0x7fb8114de760>]"
            ]
          },
          "metadata": {},
          "execution_count": 245
        },
        {
          "output_type": "display_data",
          "data": {
            "text/plain": [
              "<Figure size 720x432 with 1 Axes>"
            ],
            "image/png": "[encoded data removed]"
          },
          "metadata": {
            "needs_background": "light"
          }
        }
      ]
    }
  ]
}