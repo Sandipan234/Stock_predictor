{
  "nbformat": 4,
  "nbformat_minor": 0,
  "metadata": {
    "colab": {
      "provenance": [],
      "authorship_tag": "ABX9TyMIJ1zfK9j2OfG66qIltucb",
      "include_colab_link": true
    },
    "kernelspec": {
      "name": "python3",
      "display_name": "Python 3"
    },
    "language_info": {
      "name": "python"
    }
  },
  "cells": [
    {
      "cell_type": "markdown",
      "metadata": {
        "id": "view-in-github",
        "colab_type": "text"
      },
      "source": [
        "<a href=\"https://colab.research.google.com/github/Sandipan234/Stock_predictor/blob/main/LSTM_neural_nets.ipynb\" target=\"_parent\"><img src=\"https://colab.research.google.com/assets/colab-badge.svg\" alt=\"Open In Colab\"/></a>"
      ]
    },
    {
      "cell_type": "code",
      "execution_count": 1,
      "metadata": {
        "id": "qo0caAeB5gcd"
      },
      "outputs": [],
      "source": [
        "import pandas as pd\n",
        "import numpy as np\n",
        "from matplotlib import pyplot as plt\n"
      ]
    },
    {
      "cell_type": "code",
      "source": [
        "#seting up training inputs\n",
        "\n",
        "input_train=pd.read_csv('https://raw.githubusercontent.com/Sandipan234/Stock_predictor/104c3327a9e2a99c7ea4036a5ac85e57cacf06e5/HDFCBANK_TRAIN2.csv')\n",
        "train_set=input_train.iloc[:,4:5].values"
      ],
      "metadata": {
        "id": "yosRcG2BELxm"
      },
      "execution_count": 2,
      "outputs": []
    },
    {
      "cell_type": "code",
      "source": [
        "#Scaling the training Data\n",
        "\n",
        "from sklearn.preprocessing import MinMaxScaler\n",
        "scale=MinMaxScaler(feature_range=(0,1))\n",
        "train_set_scaled=scale.fit_transform(train_set)"
      ],
      "metadata": {
        "id": "QTiU7-OPipTQ"
      },
      "execution_count": 3,
      "outputs": []
    },
    {
      "cell_type": "code",
      "source": [
        "#Creating the data structure \n",
        "x_train=[]#stores the input for training\n",
        "y_train=[]#stores the output to be checked for training\n",
        "for i in range(30,740):\n",
        "    x_train.append(train_set_scaled[i-30:i,0])\n",
        "    y_train.append(train_set_scaled[i-1,0])#i instead of i+1 since last index is exclusive"
      ],
      "metadata": {
        "id": "GuJW3I5DqCcU"
      },
      "execution_count": 4,
      "outputs": []
    },
    {
      "cell_type": "code",
      "source": [
        "#ensuring the shape of array\n",
        "x_train,y_train=np.array(x_train),np.array(y_train)\n",
        "x_train=np.reshape(x_train,(x_train.shape[0],x_train.shape[1],1))\n",
        "#this resphapeing is done just to ensure that the data is in correct set\n",
        "# print (x_train)"
      ],
      "metadata": {
        "id": "8AAWNjJ3GiX7"
      },
      "execution_count": 5,
      "outputs": []
    },
    {
      "cell_type": "code",
      "source": [
        "# !pip install tensorflow\n",
        "# !pip install keras\n",
        "\n",
        "import tensorflow as tf\n",
        "from tensorflow import keras\n",
        "from tensorflow.keras import layers\n",
        "from keras.layers import LSTM\n",
        "from keras.layers import Dropout\n",
        "from keras.layers import Dense"
      ],
      "metadata": {
        "id": "acnkeWoLG_xp"
      },
      "execution_count": 30,
      "outputs": []
    },
    {
      "cell_type": "code",
      "source": [
        "model=keras.Sequential()"
      ],
      "metadata": {
        "id": "xIDzZ4CnIIly"
      },
      "execution_count": 20,
      "outputs": []
    },
    {
      "cell_type": "code",
      "source": [
        "#Creating the Neural Network Structure\n",
        "\n",
        "#adding 1st layer\n",
        "model.add(LSTM(units=30,return_sequences=True,input_shape=(x_train.shape[1],1)))\n",
        "model.add(Dropout(0.2))\n",
        "\n",
        "#adding 2nd layer\n",
        "model.add(LSTM(units=30,return_sequences=True))\n",
        "model.add(Dropout(0.2))\n",
        "\n",
        "#adding 3rd layer\n",
        "model.add(LSTM(units=30,return_sequences=True))\n",
        "model.add(Dropout(0.2))\n",
        "\n",
        "#adding 4th layer\n",
        "model.add(LSTM(units=30))\n",
        "model.add(Dropout(0.2))\n",
        "\n"
      ],
      "metadata": {
        "id": "vgLQZskUc_B5"
      },
      "execution_count": 29,
      "outputs": []
    },
    {
      "cell_type": "code",
      "source": [
        "#adding the output layer\n",
        "model.add(Dense(units=1))"
      ],
      "metadata": {
        "id": "s0v1-UFifXqL"
      },
      "execution_count": 32,
      "outputs": []
    },
    {
      "cell_type": "code",
      "source": [
        "#training the neural network\n",
        "model.compile(optimizer ='adam',loss='mean_squared_error')"
      ],
      "metadata": {
        "id": "zlIjdopKf4Wl"
      },
      "execution_count": 33,
      "outputs": []
    },
    {
      "cell_type": "code",
      "source": [
        "#Fitting the training data to the Neural Network\n",
        "model.fit(x_train,y_train,epochs=100,batch_size=32)"
      ],
      "metadata": {
        "id": "fDbp9EJBgUo7"
      },
      "execution_count": null,
      "outputs": []
    },
    {
      "cell_type": "code",
      "source": [
        "#Seting up the test data\n",
        "input_test=pd.read_csv('https://raw.githubusercontent.com/Sandipan234/Stock_predictor/104c3327a9e2a99c7ea4036a5ac85e57cacf06e5/HDFCBANK_TEST2.csv')\n",
        "test_set=input_test.iloc[:,4:5].values"
      ],
      "metadata": {
        "id": "BkacAszqgvvU"
      },
      "execution_count": null,
      "outputs": []
    },
    {
      "cell_type": "code",
      "source": [
        "test_input=test_set.reshape(246,1)\n",
        "test_inputs=scale.fit_transform(test_input)\n",
        "x_test=[]\n",
        "for i in range(30,246):\n",
        "  x_test.append(test_inputs[i-30:i,0])\n",
        "x_test=np.array(x_test)\n",
        "x_test=np.reshape(x_test,(x_test.shape[0],x_test.shape[1],1))\n",
        "\n"
      ],
      "metadata": {
        "id": "O1AhCCjjpvZy"
      },
      "execution_count": 58,
      "outputs": []
    },
    {
      "cell_type": "code",
      "source": [
        "predicted_price=model.predict(x_test)\n",
        "predicted_price=scale.inverse_transform(predicted_price)"
      ],
      "metadata": {
        "colab": {
          "base_uri": "https://localhost:8080/"
        },
        "id": "kvFjE7sRkQoB",
        "outputId": "59188734-d1c5-409f-86f3-f3f48eb02e74"
      },
      "execution_count": 59,
      "outputs": [
        {
          "output_type": "stream",
          "name": "stdout",
          "text": [
            "7/7 [==============================] - 5s 32ms/step\n"
          ]
        }
      ]
    },
    {
      "cell_type": "code",
      "source": [
        "#ploting the result\n",
        "plt.plot(test_set,color='red',label='Real Stock Price')\n",
        "plt.plot(predicted_price,color='blue',label='Predicted Stock Price')\n",
        "plt.xlabel('Time')\n",
        "plt.ylabel('Price')\n",
        "plt.legend()\n",
        "plt.show"
      ],
      "metadata": {
        "colab": {
          "base_uri": "https://localhost:8080/",
          "height": 298
        },
        "id": "1JcsjDVTwNct",
        "outputId": "0b708d96-16c0-49b5-e66e-f3144142db0a"
      },
      "execution_count": 62,
      "outputs": [
        {
          "output_type": "execute_result",
          "data": {
            "text/plain": [
              "<function matplotlib.pyplot.show(*args, **kw)>"
            ]
          },
          "metadata": {},
          "execution_count": 62
        },
        {
          "output_type": "display_data",
          "data": {
            "text/plain": [
              "<Figure size 432x288 with 1 Axes>"
            ],
            "image/png": "[encoded data removed]"
          },
          "metadata": {
            "needs_background": "light"
          }
        }
      ]
    }
  ]
}