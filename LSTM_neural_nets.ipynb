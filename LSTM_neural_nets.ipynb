{
  "nbformat": 4,
  "nbformat_minor": 0,
  "metadata": {
    "colab": {
      "provenance": [],
      "authorship_tag": "ABX9TyMIJ1zfK9j2OfG66qIltucb",
      "include_colab_link": true
    },
    "kernelspec": {
      "name": "python3",
      "display_name": "Python 3"
    },
    "language_info": {
      "name": "python"
    }
  },
  "cells": [
    {
      "cell_type": "markdown",
      "metadata": {
        "id": "view-in-github",
        "colab_type": "text"
      },
      "source": [
        "<a href=\"https://colab.research.google.com/github/Sandipan234/Stock_predictor/blob/main/LSTM_neural_nets.ipynb\" target=\"_parent\"><img src=\"https://colab.research.google.com/assets/colab-badge.svg\" alt=\"Open In Colab\"/></a>"
      ]
    },
    {
      "cell_type": "code",
      "execution_count": 3,
      "metadata": {
        "id": "qo0caAeB5gcd"
      },
      "outputs": [],
      "source": [
        "import pandas as pd\n",
        "import numpy as np\n",
        "from matplotlib import pyplot as plt\n"
      ]
    },
    {
      "cell_type": "code",
      "source": [
        "#seting up training inputs\n",
        "\n",
        "input_train=pd.read_csv('https://raw.githubusercontent.com/Sandipan234/Stock_predictor/104c3327a9e2a99c7ea4036a5ac85e57cacf06e5/HDFCBANK_TRAIN2.csv')\n",
        "train_set=input_train.iloc[:,4:5].values"
      ],
      "metadata": {
        "id": "yosRcG2BELxm"
      },
      "execution_count": 4,
      "outputs": []
    },
    {
      "cell_type": "code",
      "source": [
        "#Scaling the training Data\n",
        "\n",
        "from sklearn.preprocessing import MinMaxScaler\n",
        "scale=MinMaxScaler(feature_range=(0,1))\n",
        "train_set_scaled=scale.fit_transform(train_set)"
      ],
      "metadata": {
        "id": "QTiU7-OPipTQ"
      },
      "execution_count": 5,
      "outputs": []
    },
    {
      "cell_type": "code",
      "source": [
        "#Creating the data structure \n",
        "x_train=[]#stores the input for training\n",
        "y_train=[]#stores the output to be checked for training\n",
        "for i in range(30,740):\n",
        "    x_train.append(train_set_scaled[i-30:i,0])\n",
        "    y_train.append(train_set_scaled[i-1,0])#i instead of i+1 since last index is exclusive"
      ],
      "metadata": {
        "id": "GuJW3I5DqCcU"
      },
      "execution_count": 6,
      "outputs": []
    },
    {
      "cell_type": "code",
      "source": [
        "#ensuring the shape of array\n",
        "x_train,y_train=np.array(x_train),np.array(y_train)\n",
        "x_train=np.reshape(x_train,(x_train.shape[0],x_train.shape[1],1))\n",
        "#this resphapeing is done just to ensure that the data is in correct set\n",
        "# print (x_train)"
      ],
      "metadata": {
        "id": "8AAWNjJ3GiX7"
      },
      "execution_count": 7,
      "outputs": []
    },
    {
      "cell_type": "code",
      "source": [
        "# !pip install tensorflow\n",
        "# !pip install keras\n",
        "\n",
        "import tensorflow as tf\n",
        "from tensorflow import keras\n",
        "from tensorflow.keras import layers\n",
        "from keras.layers import LSTM\n",
        "from keras.layers import Dropout\n",
        "from keras.layers import Dense"
      ],
      "metadata": {
        "id": "acnkeWoLG_xp"
      },
      "execution_count": 8,
      "outputs": []
    },
    {
      "cell_type": "code",
      "source": [
        "model=keras.Sequential()"
      ],
      "metadata": {
        "id": "xIDzZ4CnIIly"
      },
      "execution_count": 9,
      "outputs": []
    },
    {
      "cell_type": "code",
      "source": [
        "#Creating the Neural Network Structure\n",
        "\n",
        "#adding 1st layer\n",
        "model.add(LSTM(units=30,return_sequences=True,input_shape=(x_train.shape[1],1)))\n",
        "model.add(Dropout(0.2))\n",
        "\n",
        "#adding 2nd layer\n",
        "model.add(LSTM(units=30,return_sequences=True))\n",
        "model.add(Dropout(0.2))\n",
        "\n",
        "#adding 3rd layer\n",
        "model.add(LSTM(units=30,return_sequences=True))\n",
        "model.add(Dropout(0.2))\n",
        "\n",
        "#adding 4th layer\n",
        "model.add(LSTM(units=30))\n",
        "model.add(Dropout(0.2))\n",
        "\n"
      ],
      "metadata": {
        "id": "vgLQZskUc_B5"
      },
      "execution_count": 10,
      "outputs": []
    },
    {
      "cell_type": "code",
      "source": [
        "#adding the output layer\n",
        "model.add(Dense(units=1))"
      ],
      "metadata": {
        "id": "s0v1-UFifXqL"
      },
      "execution_count": 11,
      "outputs": []
    },
    {
      "cell_type": "code",
      "source": [
        "#training the neural network\n",
        "model.compile(optimizer ='adam',loss='mean_squared_error')"
      ],
      "metadata": {
        "id": "zlIjdopKf4Wl"
      },
      "execution_count": 12,
      "outputs": []
    },
    {
      "cell_type": "code",
      "source": [
        "#Fitting the training data to the Neural Network\n",
        "model.fit(x_train,y_train,epochs=100,batch_size=32)"
      ],
      "metadata": {
        "id": "fDbp9EJBgUo7",
        "outputId": "a6116816-29f2-4fbf-ac42-efbbfe92e6f0",
        "colab": {
          "base_uri": "https://localhost:8080/"
        }
      },
      "execution_count": 13,
      "outputs": [
        {
          "output_type": "stream",
          "name": "stdout",
          "text": [
            "Epoch 1/100\n",
            "23/23 [==============================] - 9s 54ms/step - loss: 0.0797\n",
            "Epoch 2/100\n",
            "23/23 [==============================] - 1s 56ms/step - loss: 0.0217\n",
            "Epoch 3/100\n",
            "23/23 [==============================] - 1s 54ms/step - loss: 0.0162\n",
            "Epoch 4/100\n",
            "23/23 [==============================] - 1s 53ms/step - loss: 0.0128\n",
            "Epoch 5/100\n",
            "23/23 [==============================] - 1s 55ms/step - loss: 0.0119\n",
            "Epoch 6/100\n",
            "23/23 [==============================] - 1s 53ms/step - loss: 0.0116\n",
            "Epoch 7/100\n",
            "23/23 [==============================] - 1s 56ms/step - loss: 0.0120\n",
            "Epoch 8/100\n",
            "23/23 [==============================] - 1s 51ms/step - loss: 0.0105\n",
            "Epoch 9/100\n",
            "23/23 [==============================] - 1s 53ms/step - loss: 0.0096\n",
            "Epoch 10/100\n",
            "23/23 [==============================] - 1s 52ms/step - loss: 0.0085\n",
            "Epoch 11/100\n",
            "23/23 [==============================] - 1s 52ms/step - loss: 0.0081\n",
            "Epoch 12/100\n",
            "23/23 [==============================] - 1s 58ms/step - loss: 0.0088\n",
            "Epoch 13/100\n",
            "23/23 [==============================] - 1s 55ms/step - loss: 0.0073\n",
            "Epoch 14/100\n",
            "23/23 [==============================] - 1s 54ms/step - loss: 0.0075\n",
            "Epoch 15/100\n",
            "23/23 [==============================] - 1s 53ms/step - loss: 0.0080\n",
            "Epoch 16/100\n",
            "23/23 [==============================] - 1s 54ms/step - loss: 0.0069\n",
            "Epoch 17/100\n",
            "23/23 [==============================] - 1s 57ms/step - loss: 0.0081\n",
            "Epoch 18/100\n",
            "23/23 [==============================] - 1s 55ms/step - loss: 0.0072\n",
            "Epoch 19/100\n",
            "23/23 [==============================] - 1s 53ms/step - loss: 0.0070\n",
            "Epoch 20/100\n",
            "23/23 [==============================] - 1s 53ms/step - loss: 0.0069\n",
            "Epoch 21/100\n",
            "23/23 [==============================] - 1s 54ms/step - loss: 0.0064\n",
            "Epoch 22/100\n",
            "23/23 [==============================] - 1s 56ms/step - loss: 0.0065\n",
            "Epoch 23/100\n",
            "23/23 [==============================] - 1s 55ms/step - loss: 0.0058\n",
            "Epoch 24/100\n",
            "23/23 [==============================] - 1s 53ms/step - loss: 0.0065\n",
            "Epoch 25/100\n",
            "23/23 [==============================] - 1s 53ms/step - loss: 0.0069\n",
            "Epoch 26/100\n",
            "23/23 [==============================] - 1s 55ms/step - loss: 0.0065\n",
            "Epoch 27/100\n",
            "23/23 [==============================] - 2s 80ms/step - loss: 0.0065\n",
            "Epoch 28/100\n",
            "23/23 [==============================] - 2s 101ms/step - loss: 0.0057\n",
            "Epoch 29/100\n",
            "23/23 [==============================] - 1s 53ms/step - loss: 0.0060\n",
            "Epoch 30/100\n",
            "23/23 [==============================] - 1s 53ms/step - loss: 0.0058\n",
            "Epoch 31/100\n",
            "23/23 [==============================] - 1s 55ms/step - loss: 0.0059\n",
            "Epoch 32/100\n",
            "23/23 [==============================] - 1s 55ms/step - loss: 0.0054\n",
            "Epoch 33/100\n",
            "23/23 [==============================] - 1s 51ms/step - loss: 0.0055\n",
            "Epoch 34/100\n",
            "23/23 [==============================] - 1s 53ms/step - loss: 0.0054\n",
            "Epoch 35/100\n",
            "23/23 [==============================] - 1s 54ms/step - loss: 0.0053\n",
            "Epoch 36/100\n",
            "23/23 [==============================] - 1s 58ms/step - loss: 0.0057\n",
            "Epoch 37/100\n",
            "23/23 [==============================] - 1s 55ms/step - loss: 0.0052\n",
            "Epoch 38/100\n",
            "23/23 [==============================] - 1s 54ms/step - loss: 0.0055\n",
            "Epoch 39/100\n",
            "23/23 [==============================] - 1s 54ms/step - loss: 0.0057\n",
            "Epoch 40/100\n",
            "23/23 [==============================] - 1s 51ms/step - loss: 0.0056\n",
            "Epoch 41/100\n",
            "23/23 [==============================] - 1s 57ms/step - loss: 0.0048\n",
            "Epoch 42/100\n",
            "23/23 [==============================] - 1s 53ms/step - loss: 0.0043\n",
            "Epoch 43/100\n",
            "23/23 [==============================] - 1s 55ms/step - loss: 0.0050\n",
            "Epoch 44/100\n",
            "23/23 [==============================] - 1s 52ms/step - loss: 0.0048\n",
            "Epoch 45/100\n",
            "23/23 [==============================] - 1s 53ms/step - loss: 0.0040\n",
            "Epoch 46/100\n",
            "23/23 [==============================] - 1s 57ms/step - loss: 0.0045\n",
            "Epoch 47/100\n",
            "23/23 [==============================] - 1s 54ms/step - loss: 0.0043\n",
            "Epoch 48/100\n",
            "23/23 [==============================] - 1s 53ms/step - loss: 0.0041\n",
            "Epoch 49/100\n",
            "23/23 [==============================] - 1s 53ms/step - loss: 0.0043\n",
            "Epoch 50/100\n",
            "23/23 [==============================] - 1s 58ms/step - loss: 0.0041\n",
            "Epoch 51/100\n",
            "23/23 [==============================] - 1s 54ms/step - loss: 0.0041\n",
            "Epoch 52/100\n",
            "23/23 [==============================] - 1s 54ms/step - loss: 0.0040\n",
            "Epoch 53/100\n",
            "23/23 [==============================] - 1s 55ms/step - loss: 0.0035\n",
            "Epoch 54/100\n",
            "23/23 [==============================] - 1s 55ms/step - loss: 0.0040\n",
            "Epoch 55/100\n",
            "23/23 [==============================] - 1s 56ms/step - loss: 0.0037\n",
            "Epoch 56/100\n",
            "23/23 [==============================] - 1s 57ms/step - loss: 0.0037\n",
            "Epoch 57/100\n",
            "23/23 [==============================] - 1s 55ms/step - loss: 0.0041\n",
            "Epoch 58/100\n",
            "23/23 [==============================] - 1s 59ms/step - loss: 0.0039\n",
            "Epoch 59/100\n",
            "23/23 [==============================] - 1s 56ms/step - loss: 0.0034\n",
            "Epoch 60/100\n",
            "23/23 [==============================] - 1s 59ms/step - loss: 0.0038\n",
            "Epoch 61/100\n",
            "23/23 [==============================] - 1s 54ms/step - loss: 0.0035\n",
            "Epoch 62/100\n",
            "23/23 [==============================] - 1s 53ms/step - loss: 0.0037\n",
            "Epoch 63/100\n",
            "23/23 [==============================] - 1s 54ms/step - loss: 0.0038\n",
            "Epoch 64/100\n",
            "23/23 [==============================] - 1s 53ms/step - loss: 0.0031\n",
            "Epoch 65/100\n",
            "23/23 [==============================] - 1s 54ms/step - loss: 0.0028\n",
            "Epoch 66/100\n",
            "23/23 [==============================] - 1s 54ms/step - loss: 0.0032\n",
            "Epoch 67/100\n",
            "23/23 [==============================] - 1s 54ms/step - loss: 0.0032\n",
            "Epoch 68/100\n",
            "23/23 [==============================] - 1s 53ms/step - loss: 0.0027\n",
            "Epoch 69/100\n",
            "23/23 [==============================] - 1s 55ms/step - loss: 0.0033\n",
            "Epoch 70/100\n",
            "23/23 [==============================] - 1s 54ms/step - loss: 0.0033\n",
            "Epoch 71/100\n",
            "23/23 [==============================] - 1s 54ms/step - loss: 0.0029\n",
            "Epoch 72/100\n",
            "23/23 [==============================] - 1s 54ms/step - loss: 0.0029\n",
            "Epoch 73/100\n",
            "23/23 [==============================] - 1s 56ms/step - loss: 0.0027\n",
            "Epoch 74/100\n",
            "23/23 [==============================] - 1s 57ms/step - loss: 0.0029\n",
            "Epoch 75/100\n",
            "23/23 [==============================] - 1s 55ms/step - loss: 0.0028\n",
            "Epoch 76/100\n",
            "23/23 [==============================] - 1s 55ms/step - loss: 0.0025\n",
            "Epoch 77/100\n",
            "23/23 [==============================] - 1s 56ms/step - loss: 0.0028\n",
            "Epoch 78/100\n",
            "23/23 [==============================] - 1s 59ms/step - loss: 0.0026\n",
            "Epoch 79/100\n",
            "23/23 [==============================] - 1s 60ms/step - loss: 0.0026\n",
            "Epoch 80/100\n",
            "23/23 [==============================] - 1s 57ms/step - loss: 0.0024\n",
            "Epoch 81/100\n",
            "23/23 [==============================] - 1s 57ms/step - loss: 0.0026\n",
            "Epoch 82/100\n",
            "23/23 [==============================] - 1s 59ms/step - loss: 0.0024\n",
            "Epoch 83/100\n",
            "23/23 [==============================] - 1s 55ms/step - loss: 0.0024\n",
            "Epoch 84/100\n",
            "23/23 [==============================] - 1s 52ms/step - loss: 0.0026\n",
            "Epoch 85/100\n",
            "23/23 [==============================] - 1s 55ms/step - loss: 0.0024\n",
            "Epoch 86/100\n",
            "23/23 [==============================] - 1s 52ms/step - loss: 0.0022\n",
            "Epoch 87/100\n",
            "23/23 [==============================] - 1s 56ms/step - loss: 0.0025\n",
            "Epoch 88/100\n",
            "23/23 [==============================] - 1s 53ms/step - loss: 0.0023\n",
            "Epoch 89/100\n",
            "23/23 [==============================] - 1s 53ms/step - loss: 0.0024\n",
            "Epoch 90/100\n",
            "23/23 [==============================] - 1s 53ms/step - loss: 0.0023\n",
            "Epoch 91/100\n",
            "23/23 [==============================] - 1s 51ms/step - loss: 0.0023\n",
            "Epoch 92/100\n",
            "23/23 [==============================] - 1s 53ms/step - loss: 0.0025\n",
            "Epoch 93/100\n",
            "23/23 [==============================] - 1s 54ms/step - loss: 0.0023\n",
            "Epoch 94/100\n",
            "23/23 [==============================] - 1s 53ms/step - loss: 0.0021\n",
            "Epoch 95/100\n",
            "23/23 [==============================] - 1s 53ms/step - loss: 0.0022\n",
            "Epoch 96/100\n",
            "23/23 [==============================] - 1s 55ms/step - loss: 0.0024\n",
            "Epoch 97/100\n",
            "23/23 [==============================] - 1s 53ms/step - loss: 0.0019\n",
            "Epoch 98/100\n",
            "23/23 [==============================] - 1s 54ms/step - loss: 0.0019\n",
            "Epoch 99/100\n",
            "23/23 [==============================] - 1s 58ms/step - loss: 0.0018\n",
            "Epoch 100/100\n",
            "23/23 [==============================] - 1s 56ms/step - loss: 0.0022\n"
          ]
        },
        {
          "output_type": "execute_result",
          "data": {
            "text/plain": [
              "<keras.callbacks.History at 0x7fc0ef521970>"
            ]
          },
          "metadata": {},
          "execution_count": 13
        }
      ]
    },
    {
      "cell_type": "code",
      "source": [
        "#Seting up the test data\n",
        "input_test=pd.read_csv('https://raw.githubusercontent.com/Sandipan234/Stock_predictor/104c3327a9e2a99c7ea4036a5ac85e57cacf06e5/HDFCBANK_TEST2.csv')\n",
        "test_set=input_test.iloc[:,4:5].values"
      ],
      "metadata": {
        "id": "BkacAszqgvvU"
      },
      "execution_count": 14,
      "outputs": []
    },
    {
      "cell_type": "code",
      "source": [
        "test_input=test_set.reshape(246,1)\n",
        "test_inputs=scale.fit_transform(test_input)\n",
        "x_test=[]\n",
        "for i in range(30,246):\n",
        "  x_test.append(test_inputs[i-30:i,0])\n",
        "x_test=np.array(x_test)\n",
        "x_test=np.reshape(x_test,(x_test.shape[0],x_test.shape[1],1))\n",
        "\n"
      ],
      "metadata": {
        "id": "O1AhCCjjpvZy"
      },
      "execution_count": 15,
      "outputs": []
    },
    {
      "cell_type": "code",
      "source": [
        "predicted_price=model.predict(x_test)\n",
        "predicted_price=scale.inverse_transform(predicted_price)"
      ],
      "metadata": {
        "colab": {
          "base_uri": "https://localhost:8080/"
        },
        "id": "kvFjE7sRkQoB",
        "outputId": "6017991e-186d-4904-c39e-a1c3d62bdcc9"
      },
      "execution_count": 16,
      "outputs": [
        {
          "output_type": "stream",
          "name": "stdout",
          "text": [
            "7/7 [==============================] - 2s 15ms/step\n"
          ]
        }
      ]
    },
    {
      "cell_type": "code",
      "source": [
        "#ploting the result\n",
        "plt.plot(test_set,color='red',label='Real Stock Price')\n",
        "plt.plot(predicted_price,color='blue',label='Predicted Stock Price')\n",
        "plt.xlabel('Time')\n",
        "plt.ylabel('Price')\n",
        "plt.legend()\n",
        "plt.show"
      ],
      "metadata": {
        "colab": {
          "base_uri": "https://localhost:8080/",
          "height": 298
        },
        "id": "1JcsjDVTwNct",
        "outputId": "7fbbe399-e378-4899-bf17-70b88bd73903"
      },
      "execution_count": 17,
      "outputs": [
        {
          "output_type": "execute_result",
          "data": {
            "text/plain": [
              "<function matplotlib.pyplot.show(*args, **kw)>"
            ]
          },
          "metadata": {},
          "execution_count": 17
        },
        {
          "output_type": "display_data",
          "data": {
            "text/plain": [
              "<Figure size 432x288 with 1 Axes>"
            ],
            "image/png": "[encoded data removed]"
          },
          "metadata": {
            "needs_background": "light"
          }
        }
      ]
    }
  ]
}